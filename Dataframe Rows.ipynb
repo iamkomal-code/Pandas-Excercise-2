{
 "cells": [
  {
   "cell_type": "code",
   "execution_count": 4,
   "metadata": {},
   "outputs": [
    {
     "name": "stdout",
     "output_type": "stream",
     "text": [
      "Original DataFrame: \n",
      "      name  age\n",
      "0  Sujeet   10\n",
      "1  Sameer   11\n",
      "2   Sumit   12\n",
      "\n",
      "Rows iterated using iterrows() : \n",
      "Sujeet 10\n",
      "Sameer 11\n",
      "Sumit 12\n"
     ]
    }
   ],
   "source": [
    "# How to iterate over rows in Pandas Dataframe\n",
    "# Method #1: Using the DataFrame.iterrows() method\n",
    "\n",
    "# This method iterated over the rows as (index, series) pairs.\n",
    "\n",
    "\n",
    "# importing pandas\n",
    "import pandas as pd\n",
    "  \n",
    "# list of dicts\n",
    "input_df = [{'name':'Sujeet', 'age':10},\n",
    "            {'name':'Sameer', 'age':11},\n",
    "            {'name':'Sumit', 'age':12}]\n",
    "  \n",
    "df = pd.DataFrame(input_df)\n",
    "print('Original DataFrame: \\n', df)\n",
    "  \n",
    "  \n",
    "print('\\nRows iterated using iterrows() : ')\n",
    "for index, row in df.iterrows():\n",
    "    print(row['name'], row['age'])"
   ]
  },
  {
   "cell_type": "raw",
   "metadata": {},
   "source": [
    "Method #2: Using the DataFrame.itertuples() method\n",
    "\n",
    "This method returns a named tuple for every row. getattr() function can be used to get the row attribute in the returned tuple. This method is faster than Method #1."
   ]
  },
  {
   "cell_type": "code",
   "execution_count": 8,
   "metadata": {},
   "outputs": [
    {
     "name": "stdout",
     "output_type": "stream",
     "text": [
      "Original DataFrame: \n",
      "      name  age\n",
      "0  Sujeet   10\n",
      "1  Sameer  110\n",
      "2   Sumit  120\n",
      "\n",
      "Rows iterated using itertuples() : \n",
      "Sujeet 10\n",
      "Sameer 110\n",
      "Sumit 120\n"
     ]
    }
   ],
   "source": [
    "import pandas as pd\n",
    "  \n",
    "# list of dicts\n",
    "input_df = [{'name':'Sujeet', 'age':10},\n",
    "            {'name':'Sameer', 'age':110},\n",
    "            {'name':'Sumit', 'age':120}]\n",
    "  \n",
    "df = pd.DataFrame(input_df)\n",
    "print('Original DataFrame: \\n', df)\n",
    "  \n",
    "print('\\nRows iterated using itertuples() : ')\n",
    "for row in df.itertuples():\n",
    "    print(getattr(row, 'name'), getattr(row, 'age'))"
   ]
  },
  {
   "cell_type": "code",
   "execution_count": 9,
   "metadata": {},
   "outputs": [
    {
     "name": "stdout",
     "output_type": "stream",
     "text": [
      "Given Dataframe :\n",
      "         Name  Age    Stream  Percentage\n",
      "0      Ankit   21      Math          88\n",
      "1       Amit   19  Commerce          92\n",
      "2  Aishwarya   20      Arts          95\n",
      "3   Priyanka   18   Biology          70\n",
      "\n",
      "Iterating over rows using index attribute :\n",
      "\n",
      "Ankit Math\n",
      "Amit Commerce\n",
      "Aishwarya Arts\n",
      "Priyanka Biology\n"
     ]
    }
   ],
   "source": [
    "#Different ways to iterate over rows in Pandas Dataframe\n",
    "#M1:Using index attribute of the Datafram\n",
    "data = {'Name': ['Ankit', 'Amit', 'Aishwarya', 'Priyanka'],\n",
    "                'Age': [21, 19, 20, 18],\n",
    "                'Stream': ['Math', 'Commerce', 'Arts', 'Biology'],\n",
    "                'Percentage': [88, 92, 95, 70]}\n",
    "  \n",
    "# Convert the dictionary into DataFrame\n",
    "df = pd.DataFrame(data, columns = ['Name', 'Age', 'Stream', 'Percentage'])\n",
    "  \n",
    "print(\"Given Dataframe :\\n\", df)\n",
    "  \n",
    "print(\"\\nIterating over rows using index attribute :\\n\")\n",
    "  \n",
    "# iterate through each row and select \n",
    "# 'Name' and 'Stream' column respectively.\n",
    "for ind in df.index:\n",
    "     print(df['Name'][ind], df['Stream'][ind])"
   ]
  },
  {
   "cell_type": "code",
   "execution_count": 10,
   "metadata": {},
   "outputs": [
    {
     "name": "stdout",
     "output_type": "stream",
     "text": [
      "Given Dataframe :\n",
      "         Name  Age    Stream  Percentage\n",
      "0      Ankit   21      Math          88\n",
      "1       Amit   19  Commerce          92\n",
      "2  Aishwarya   20      Arts          95\n",
      "3   Priyanka   18   Biology          70\n",
      "\n",
      "Iterating over rows using loc function :\n",
      "\n",
      "Ankit 21\n",
      "Amit 19\n",
      "Aishwarya 20\n",
      "Priyanka 18\n"
     ]
    }
   ],
   "source": [
    "# M2:loc\n",
    "data = {'Name': ['Ankit', 'Amit', 'Aishwarya', 'Priyanka'],\n",
    "                'Age': [21, 19, 20, 18],\n",
    "                'Stream': ['Math', 'Commerce', 'Arts', 'Biology'],\n",
    "                'Percentage': [88, 92, 95, 70]}\n",
    "  \n",
    "# Convert the dictionary into DataFrame\n",
    "df = pd.DataFrame(data, columns = ['Name', 'Age', 'Stream', 'Percentage'])\n",
    "  \n",
    "print(\"Given Dataframe :\\n\", df)\n",
    "  \n",
    "print(\"\\nIterating over rows using loc function :\\n\")\n",
    "  \n",
    "# iterate through each row and select \n",
    "# 'Name' and 'Age' column respectively.\n",
    "for i in range(len(df)) :\n",
    "  print(df.loc[i, \"Name\"], df.loc[i, \"Age\"])"
   ]
  },
  {
   "cell_type": "code",
   "execution_count": 11,
   "metadata": {},
   "outputs": [
    {
     "name": "stdout",
     "output_type": "stream",
     "text": [
      "Ankit Math\n",
      "Amit Commerce\n",
      "Aishwarya Arts\n",
      "Priyanka Biology\n"
     ]
    }
   ],
   "source": [
    "#using iloc\n",
    "for i in range(len(df)) :\n",
    "  print(df.iloc[i, 0], df.iloc[i, 2])"
   ]
  },
  {
   "cell_type": "code",
   "execution_count": 12,
   "metadata": {},
   "outputs": [
    {
     "name": "stdout",
     "output_type": "stream",
     "text": [
      "0        Ankit 88\n",
      "1         Amit 92\n",
      "2    Aishwarya 95\n",
      "3     Priyanka 70\n",
      "dtype: object\n"
     ]
    }
   ],
   "source": [
    "#USING lambda\n",
    "print(df.apply(lambda row: row[\"Name\"] + \" \" + str(row[\"Percentage\"]), axis = 1))"
   ]
  },
  {
   "cell_type": "code",
   "execution_count": 13,
   "metadata": {},
   "outputs": [
    {
     "data": {
      "text/html": [
       "<div>\n",
       "<style scoped>\n",
       "    .dataframe tbody tr th:only-of-type {\n",
       "        vertical-align: middle;\n",
       "    }\n",
       "\n",
       "    .dataframe tbody tr th {\n",
       "        vertical-align: top;\n",
       "    }\n",
       "\n",
       "    .dataframe thead th {\n",
       "        text-align: right;\n",
       "    }\n",
       "</style>\n",
       "<table border=\"1\" class=\"dataframe\">\n",
       "  <thead>\n",
       "    <tr style=\"text-align: right;\">\n",
       "      <th></th>\n",
       "      <th>Name</th>\n",
       "      <th>Age</th>\n",
       "      <th>Stream</th>\n",
       "      <th>Percentage</th>\n",
       "    </tr>\n",
       "  </thead>\n",
       "  <tbody>\n",
       "    <tr>\n",
       "      <th>0</th>\n",
       "      <td>Ankit</td>\n",
       "      <td>21</td>\n",
       "      <td>Math</td>\n",
       "      <td>88</td>\n",
       "    </tr>\n",
       "    <tr>\n",
       "      <th>1</th>\n",
       "      <td>Amit</td>\n",
       "      <td>19</td>\n",
       "      <td>Commerce</td>\n",
       "      <td>92</td>\n",
       "    </tr>\n",
       "    <tr>\n",
       "      <th>2</th>\n",
       "      <td>Aishwarya</td>\n",
       "      <td>20</td>\n",
       "      <td>Arts</td>\n",
       "      <td>95</td>\n",
       "    </tr>\n",
       "  </tbody>\n",
       "</table>\n",
       "</div>"
      ],
      "text/plain": [
       "        Name  Age    Stream  Percentage\n",
       "0      Ankit   21      Math          88\n",
       "1       Amit   19  Commerce          92\n",
       "2  Aishwarya   20      Arts          95"
      ]
     },
     "execution_count": 13,
     "metadata": {},
     "output_type": "execute_result"
    }
   ],
   "source": [
    "#Selecting rows in pandas DataFrame based on conditions\n",
    "rslt_df = df[df['Percentage'] > 80]\n",
    "  \n",
    "rslt_df"
   ]
  },
  {
   "cell_type": "code",
   "execution_count": 14,
   "metadata": {},
   "outputs": [
    {
     "data": {
      "text/html": [
       "<div>\n",
       "<style scoped>\n",
       "    .dataframe tbody tr th:only-of-type {\n",
       "        vertical-align: middle;\n",
       "    }\n",
       "\n",
       "    .dataframe tbody tr th {\n",
       "        vertical-align: top;\n",
       "    }\n",
       "\n",
       "    .dataframe thead th {\n",
       "        text-align: right;\n",
       "    }\n",
       "</style>\n",
       "<table border=\"1\" class=\"dataframe\">\n",
       "  <thead>\n",
       "    <tr style=\"text-align: right;\">\n",
       "      <th></th>\n",
       "      <th>Name</th>\n",
       "      <th>Age</th>\n",
       "      <th>Stream</th>\n",
       "      <th>Percentage</th>\n",
       "    </tr>\n",
       "  </thead>\n",
       "  <tbody>\n",
       "    <tr>\n",
       "      <th>0</th>\n",
       "      <td>Ankit</td>\n",
       "      <td>21</td>\n",
       "      <td>Math</td>\n",
       "      <td>88</td>\n",
       "    </tr>\n",
       "    <tr>\n",
       "      <th>1</th>\n",
       "      <td>Amit</td>\n",
       "      <td>19</td>\n",
       "      <td>Commerce</td>\n",
       "      <td>92</td>\n",
       "    </tr>\n",
       "    <tr>\n",
       "      <th>2</th>\n",
       "      <td>Aishwarya</td>\n",
       "      <td>20</td>\n",
       "      <td>Arts</td>\n",
       "      <td>95</td>\n",
       "    </tr>\n",
       "  </tbody>\n",
       "</table>\n",
       "</div>"
      ],
      "text/plain": [
       "        Name  Age    Stream  Percentage\n",
       "0      Ankit   21      Math          88\n",
       "1       Amit   19  Commerce          92\n",
       "2  Aishwarya   20      Arts          95"
      ]
     },
     "execution_count": 14,
     "metadata": {},
     "output_type": "execute_result"
    }
   ],
   "source": [
    "#using loc\n",
    "rslt_df = df.loc[df['Percentage'] > 80]\n",
    "  \n",
    "rslt_df"
   ]
  },
  {
   "cell_type": "code",
   "execution_count": 16,
   "metadata": {},
   "outputs": [
    {
     "data": {
      "text/html": [
       "<div>\n",
       "<style scoped>\n",
       "    .dataframe tbody tr th:only-of-type {\n",
       "        vertical-align: middle;\n",
       "    }\n",
       "\n",
       "    .dataframe tbody tr th {\n",
       "        vertical-align: top;\n",
       "    }\n",
       "\n",
       "    .dataframe thead th {\n",
       "        text-align: right;\n",
       "    }\n",
       "</style>\n",
       "<table border=\"1\" class=\"dataframe\">\n",
       "  <thead>\n",
       "    <tr style=\"text-align: right;\">\n",
       "      <th></th>\n",
       "      <th>Name</th>\n",
       "      <th>Age</th>\n",
       "      <th>Stream</th>\n",
       "      <th>Percentage</th>\n",
       "    </tr>\n",
       "  </thead>\n",
       "  <tbody>\n",
       "    <tr>\n",
       "      <th>0</th>\n",
       "      <td>Ankit</td>\n",
       "      <td>21</td>\n",
       "      <td>Math</td>\n",
       "      <td>88</td>\n",
       "    </tr>\n",
       "    <tr>\n",
       "      <th>1</th>\n",
       "      <td>Amit</td>\n",
       "      <td>19</td>\n",
       "      <td>Commerce</td>\n",
       "      <td>92</td>\n",
       "    </tr>\n",
       "  </tbody>\n",
       "</table>\n",
       "</div>"
      ],
      "text/plain": [
       "    Name  Age    Stream  Percentage\n",
       "0  Ankit   21      Math          88\n",
       "1   Amit   19  Commerce          92"
      ]
     },
     "execution_count": 16,
     "metadata": {},
     "output_type": "execute_result"
    }
   ],
   "source": [
    "#  Selecting all the rows from the given dataframe in which ‘Stream’ is present in the options list using basic method.\n",
    "options = ['Math', 'Commerce']\n",
    "  \n",
    "# selecting rows based on condition\n",
    "rslt_df = df[df['Stream'].isin(options)]\n",
    "rslt_df"
   ]
  },
  {
   "cell_type": "code",
   "execution_count": 17,
   "metadata": {},
   "outputs": [
    {
     "data": {
      "text/html": [
       "<div>\n",
       "<style scoped>\n",
       "    .dataframe tbody tr th:only-of-type {\n",
       "        vertical-align: middle;\n",
       "    }\n",
       "\n",
       "    .dataframe tbody tr th {\n",
       "        vertical-align: top;\n",
       "    }\n",
       "\n",
       "    .dataframe thead th {\n",
       "        text-align: right;\n",
       "    }\n",
       "</style>\n",
       "<table border=\"1\" class=\"dataframe\">\n",
       "  <thead>\n",
       "    <tr style=\"text-align: right;\">\n",
       "      <th></th>\n",
       "      <th>Name</th>\n",
       "      <th>Age</th>\n",
       "      <th>Stream</th>\n",
       "      <th>Percentage</th>\n",
       "    </tr>\n",
       "  </thead>\n",
       "  <tbody>\n",
       "    <tr>\n",
       "      <th>0</th>\n",
       "      <td>Ankit</td>\n",
       "      <td>21</td>\n",
       "      <td>Math</td>\n",
       "      <td>88</td>\n",
       "    </tr>\n",
       "    <tr>\n",
       "      <th>1</th>\n",
       "      <td>Amit</td>\n",
       "      <td>19</td>\n",
       "      <td>Commerce</td>\n",
       "      <td>92</td>\n",
       "    </tr>\n",
       "  </tbody>\n",
       "</table>\n",
       "</div>"
      ],
      "text/plain": [
       "    Name  Age    Stream  Percentage\n",
       "0  Ankit   21      Math          88\n",
       "1   Amit   19  Commerce          92"
      ]
     },
     "execution_count": 17,
     "metadata": {},
     "output_type": "execute_result"
    }
   ],
   "source": [
    "#using loc\n",
    "rslt_df = df.loc[df['Stream'].isin(options)]\n",
    "rslt_df"
   ]
  },
  {
   "cell_type": "code",
   "execution_count": 18,
   "metadata": {},
   "outputs": [
    {
     "data": {
      "text/html": [
       "<div>\n",
       "<style scoped>\n",
       "    .dataframe tbody tr th:only-of-type {\n",
       "        vertical-align: middle;\n",
       "    }\n",
       "\n",
       "    .dataframe tbody tr th {\n",
       "        vertical-align: top;\n",
       "    }\n",
       "\n",
       "    .dataframe thead th {\n",
       "        text-align: right;\n",
       "    }\n",
       "</style>\n",
       "<table border=\"1\" class=\"dataframe\">\n",
       "  <thead>\n",
       "    <tr style=\"text-align: right;\">\n",
       "      <th></th>\n",
       "      <th>Name</th>\n",
       "      <th>Age</th>\n",
       "      <th>Stream</th>\n",
       "      <th>Percentage</th>\n",
       "    </tr>\n",
       "  </thead>\n",
       "  <tbody>\n",
       "    <tr>\n",
       "      <th>2</th>\n",
       "      <td>Aishwarya</td>\n",
       "      <td>20</td>\n",
       "      <td>Arts</td>\n",
       "      <td>95</td>\n",
       "    </tr>\n",
       "    <tr>\n",
       "      <th>3</th>\n",
       "      <td>Priyanka</td>\n",
       "      <td>18</td>\n",
       "      <td>Biology</td>\n",
       "      <td>70</td>\n",
       "    </tr>\n",
       "  </tbody>\n",
       "</table>\n",
       "</div>"
      ],
      "text/plain": [
       "        Name  Age   Stream  Percentage\n",
       "2  Aishwarya   20     Arts          95\n",
       "3   Priyanka   18  Biology          70"
      ]
     },
     "execution_count": 18,
     "metadata": {},
     "output_type": "execute_result"
    }
   ],
   "source": [
    "# Selecting all the rows from the given dataframe in which ‘Stream’ is not present in the options list using .loc[].\n",
    "rslt_df = df.loc[~df['Stream'].isin(options)]\n",
    "rslt_df"
   ]
  },
  {
   "cell_type": "code",
   "execution_count": 20,
   "metadata": {},
   "outputs": [
    {
     "data": {
      "text/html": [
       "<div>\n",
       "<style scoped>\n",
       "    .dataframe tbody tr th:only-of-type {\n",
       "        vertical-align: middle;\n",
       "    }\n",
       "\n",
       "    .dataframe tbody tr th {\n",
       "        vertical-align: top;\n",
       "    }\n",
       "\n",
       "    .dataframe thead th {\n",
       "        text-align: right;\n",
       "    }\n",
       "</style>\n",
       "<table border=\"1\" class=\"dataframe\">\n",
       "  <thead>\n",
       "    <tr style=\"text-align: right;\">\n",
       "      <th></th>\n",
       "      <th>Name</th>\n",
       "      <th>Age</th>\n",
       "      <th>Stream</th>\n",
       "      <th>Percentage</th>\n",
       "    </tr>\n",
       "  </thead>\n",
       "  <tbody>\n",
       "    <tr>\n",
       "      <th>0</th>\n",
       "      <td>Ankit</td>\n",
       "      <td>21</td>\n",
       "      <td>Math</td>\n",
       "      <td>88</td>\n",
       "    </tr>\n",
       "  </tbody>\n",
       "</table>\n",
       "</div>"
      ],
      "text/plain": [
       "    Name  Age Stream  Percentage\n",
       "0  Ankit   21   Math          88"
      ]
     },
     "execution_count": 20,
     "metadata": {},
     "output_type": "execute_result"
    }
   ],
   "source": [
    "rslt_df = df[(df['Age'] == 21) &\n",
    "          df['Stream'].isin(options)]\n",
    "rslt_df"
   ]
  },
  {
   "cell_type": "code",
   "execution_count": 23,
   "metadata": {},
   "outputs": [
    {
     "name": "stdout",
     "output_type": "stream",
     "text": [
      "[['10/2/2011', 'Music', 10000], ['11/2/2011', 'Poetry', 5000]]\n",
      "[['10/2/2011', 'Music', 10000], ['11/2/2011', 'Poetry', 5000], ['12/2/2011', 'Theatre', 15000]]\n"
     ]
    }
   ],
   "source": [
    "#Select any row from a Dataframe using iloc[] and iat[] in Pandas\n",
    "df = pd.DataFrame({'Date':['10/2/2011', '11/2/2011', '12/2/2011', '13/2/11'], \n",
    "                    'Event':['Music', 'Poetry', 'Theatre', 'Comedy'], \n",
    "                    'Cost':[10000, 5000, 15000, 2000]}) \n",
    "  \n",
    "# Create an empty list \n",
    "Row_list =[] \n",
    "    \n",
    "# Iterate over each row \n",
    "for i in range((df.shape[0])): \n",
    "    \n",
    "    # Using iloc to access the values of  \n",
    "    # the current row denoted by \"i\" \n",
    "    Row_list.append(list(df.iloc[i, :])) \n",
    "    \n",
    "# Print the first 3 elements \n",
    "print(Row_list[:2]) \n",
    "print(Row_list[:3]) "
   ]
  },
  {
   "cell_type": "code",
   "execution_count": 24,
   "metadata": {},
   "outputs": [
    {
     "name": "stdout",
     "output_type": "stream",
     "text": [
      "     Name Qualification\n",
      "1  Princi            MA\n",
      "2  Gaurav           MCA\n",
      "3    Anuj           Phd\n"
     ]
    }
   ],
   "source": [
    "# Limited rows selection with given column in Pandas\n",
    "data = {'Name':['Jai', 'Princi', 'Gaurav', 'Anuj'], \n",
    "        'Age':[27, 24, 22, 32], \n",
    "        'Address':['Delhi', 'Kanpur', 'Allahabad', 'Kannauj'], \n",
    "        'Qualification':['Msc', 'MA', 'MCA', 'Phd']} \n",
    "    \n",
    "# Convert the dictionary into DataFrame  \n",
    "df = pd.DataFrame(data) \n",
    "    \n",
    "# select three rows and two columns \n",
    "print(df.loc[1:3, ['Name', 'Qualification']])"
   ]
  },
  {
   "cell_type": "code",
   "execution_count": 26,
   "metadata": {},
   "outputs": [
    {
     "data": {
      "text/html": [
       "<div>\n",
       "<style scoped>\n",
       "    .dataframe tbody tr th:only-of-type {\n",
       "        vertical-align: middle;\n",
       "    }\n",
       "\n",
       "    .dataframe tbody tr th {\n",
       "        vertical-align: top;\n",
       "    }\n",
       "\n",
       "    .dataframe thead th {\n",
       "        text-align: right;\n",
       "    }\n",
       "</style>\n",
       "<table border=\"1\" class=\"dataframe\">\n",
       "  <thead>\n",
       "    <tr style=\"text-align: right;\">\n",
       "      <th></th>\n",
       "      <th>Name</th>\n",
       "      <th>Age</th>\n",
       "      <th>Address</th>\n",
       "      <th>Qualification</th>\n",
       "    </tr>\n",
       "  </thead>\n",
       "  <tbody>\n",
       "    <tr>\n",
       "      <th>0</th>\n",
       "      <td>Jai</td>\n",
       "      <td>27</td>\n",
       "      <td>Delhi</td>\n",
       "      <td>Msc</td>\n",
       "    </tr>\n",
       "    <tr>\n",
       "      <th>1</th>\n",
       "      <td>Princi</td>\n",
       "      <td>24</td>\n",
       "      <td>Kanpur</td>\n",
       "      <td>MA</td>\n",
       "    </tr>\n",
       "    <tr>\n",
       "      <th>2</th>\n",
       "      <td>Gaurav</td>\n",
       "      <td>22</td>\n",
       "      <td>Allahabad</td>\n",
       "      <td>MCA</td>\n",
       "    </tr>\n",
       "    <tr>\n",
       "      <th>3</th>\n",
       "      <td>Anuj</td>\n",
       "      <td>32</td>\n",
       "      <td>Kannauj</td>\n",
       "      <td>Phd</td>\n",
       "    </tr>\n",
       "  </tbody>\n",
       "</table>\n",
       "</div>"
      ],
      "text/plain": [
       "     Name  Age    Address Qualification\n",
       "0     Jai   27      Delhi           Msc\n",
       "1  Princi   24     Kanpur            MA\n",
       "2  Gaurav   22  Allahabad           MCA\n",
       "3    Anuj   32    Kannauj           Phd"
      ]
     },
     "execution_count": 26,
     "metadata": {},
     "output_type": "execute_result"
    }
   ],
   "source": [
    "df"
   ]
  },
  {
   "cell_type": "code",
   "execution_count": 25,
   "metadata": {},
   "outputs": [
    {
     "name": "stdout",
     "output_type": "stream",
     "text": [
      "Name               Jai\n",
      "Age                 27\n",
      "Address          Delhi\n",
      "Qualification      Msc\n",
      "Name: 0, dtype: object\n"
     ]
    }
   ],
   "source": [
    "print(df.loc[0, :] )"
   ]
  },
  {
   "cell_type": "code",
   "execution_count": 27,
   "metadata": {},
   "outputs": [
    {
     "data": {
      "text/html": [
       "<div>\n",
       "<style scoped>\n",
       "    .dataframe tbody tr th:only-of-type {\n",
       "        vertical-align: middle;\n",
       "    }\n",
       "\n",
       "    .dataframe tbody tr th {\n",
       "        vertical-align: top;\n",
       "    }\n",
       "\n",
       "    .dataframe thead th {\n",
       "        text-align: right;\n",
       "    }\n",
       "</style>\n",
       "<table border=\"1\" class=\"dataframe\">\n",
       "  <thead>\n",
       "    <tr style=\"text-align: right;\">\n",
       "      <th></th>\n",
       "      <th>Age</th>\n",
       "      <th>Address</th>\n",
       "    </tr>\n",
       "  </thead>\n",
       "  <tbody>\n",
       "    <tr>\n",
       "      <th>0</th>\n",
       "      <td>27</td>\n",
       "      <td>Delhi</td>\n",
       "    </tr>\n",
       "    <tr>\n",
       "      <th>1</th>\n",
       "      <td>24</td>\n",
       "      <td>Kanpur</td>\n",
       "    </tr>\n",
       "  </tbody>\n",
       "</table>\n",
       "</div>"
      ],
      "text/plain": [
       "   Age Address\n",
       "0   27   Delhi\n",
       "1   24  Kanpur"
      ]
     },
     "execution_count": 27,
     "metadata": {},
     "output_type": "execute_result"
    }
   ],
   "source": [
    "# Select all or some columns, one to another using .iloc\n",
    "df.iloc [0:2, 1:3] "
   ]
  },
  {
   "cell_type": "code",
   "execution_count": 30,
   "metadata": {},
   "outputs": [
    {
     "data": {
      "text/html": [
       "<div>\n",
       "<style scoped>\n",
       "    .dataframe tbody tr th:only-of-type {\n",
       "        vertical-align: middle;\n",
       "    }\n",
       "\n",
       "    .dataframe tbody tr th {\n",
       "        vertical-align: top;\n",
       "    }\n",
       "\n",
       "    .dataframe thead th {\n",
       "        text-align: right;\n",
       "    }\n",
       "</style>\n",
       "<table border=\"1\" class=\"dataframe\">\n",
       "  <thead>\n",
       "    <tr style=\"text-align: right;\">\n",
       "      <th></th>\n",
       "      <th>Name</th>\n",
       "      <th>Age</th>\n",
       "      <th>Address</th>\n",
       "      <th>Qualification</th>\n",
       "    </tr>\n",
       "  </thead>\n",
       "  <tbody>\n",
       "    <tr>\n",
       "      <th>0</th>\n",
       "      <td>Jai</td>\n",
       "      <td>27</td>\n",
       "      <td>Delhi</td>\n",
       "      <td>Msc</td>\n",
       "    </tr>\n",
       "    <tr>\n",
       "      <th>3</th>\n",
       "      <td>Anuj</td>\n",
       "      <td>32</td>\n",
       "      <td>Kannauj</td>\n",
       "      <td>Phd</td>\n",
       "    </tr>\n",
       "  </tbody>\n",
       "</table>\n",
       "</div>"
      ],
      "text/plain": [
       "   Name  Age  Address Qualification\n",
       "0   Jai   27    Delhi           Msc\n",
       "3  Anuj   32  Kannauj           Phd"
      ]
     },
     "execution_count": 30,
     "metadata": {},
     "output_type": "execute_result"
    }
   ],
   "source": [
    "# Drop rows from the dataframe based on certain condition applied on a column\n",
    "df.drop(df[df['Age'] < 25].index, inplace = True)\n",
    "df"
   ]
  },
  {
   "cell_type": "code",
   "execution_count": 45,
   "metadata": {},
   "outputs": [],
   "source": [
    "df = df = pd.DataFrame({'Date':['10/2/2011', '12/2/2011', '13/2/2011', '14/2/2011'],\n",
    "                    'Event':['Music', 'Poetry', 'Theatre', 'Comedy'],\n",
    "                    'Cost':[10000, 5000, 15000, 2000]})"
   ]
  },
  {
   "cell_type": "code",
   "execution_count": 46,
   "metadata": {},
   "outputs": [
    {
     "data": {
      "text/html": [
       "<div>\n",
       "<style scoped>\n",
       "    .dataframe tbody tr th:only-of-type {\n",
       "        vertical-align: middle;\n",
       "    }\n",
       "\n",
       "    .dataframe tbody tr th {\n",
       "        vertical-align: top;\n",
       "    }\n",
       "\n",
       "    .dataframe thead th {\n",
       "        text-align: right;\n",
       "    }\n",
       "</style>\n",
       "<table border=\"1\" class=\"dataframe\">\n",
       "  <thead>\n",
       "    <tr style=\"text-align: right;\">\n",
       "      <th></th>\n",
       "      <th>Date</th>\n",
       "      <th>Event</th>\n",
       "      <th>Cost</th>\n",
       "    </tr>\n",
       "  </thead>\n",
       "  <tbody>\n",
       "    <tr>\n",
       "      <th>0</th>\n",
       "      <td>10/2/2011</td>\n",
       "      <td>Music</td>\n",
       "      <td>10000</td>\n",
       "    </tr>\n",
       "    <tr>\n",
       "      <th>1</th>\n",
       "      <td>12/2/2011</td>\n",
       "      <td>Poetry</td>\n",
       "      <td>5000</td>\n",
       "    </tr>\n",
       "    <tr>\n",
       "      <th>2</th>\n",
       "      <td>13/2/2011</td>\n",
       "      <td>Theatre</td>\n",
       "      <td>15000</td>\n",
       "    </tr>\n",
       "    <tr>\n",
       "      <th>3</th>\n",
       "      <td>14/2/2011</td>\n",
       "      <td>Comedy</td>\n",
       "      <td>2000</td>\n",
       "    </tr>\n",
       "  </tbody>\n",
       "</table>\n",
       "</div>"
      ],
      "text/plain": [
       "        Date    Event   Cost\n",
       "0  10/2/2011    Music  10000\n",
       "1  12/2/2011   Poetry   5000\n",
       "2  13/2/2011  Theatre  15000\n",
       "3  14/2/2011   Comedy   2000"
      ]
     },
     "execution_count": 46,
     "metadata": {},
     "output_type": "execute_result"
    }
   ],
   "source": [
    "df"
   ]
  },
  {
   "cell_type": "code",
   "execution_count": 47,
   "metadata": {},
   "outputs": [
    {
     "name": "stdout",
     "output_type": "stream",
     "text": [
      "        Date      Event   Cost\n",
      "0  10/2/2011      Music  10000\n",
      "1  12/2/2011     Poetry   5000\n",
      "2  11/2/2011  Wrestling  12000\n",
      "3  13/2/2011    Theatre  15000\n",
      "4  14/2/2011     Comedy   2000\n"
     ]
    },
    {
     "name": "stderr",
     "output_type": "stream",
     "text": [
      "C:\\Users\\hp\\Anaconda3\\lib\\site-packages\\pandas\\core\\indexing.py:670: SettingWithCopyWarning: \n",
      "A value is trying to be set on a copy of a slice from a DataFrame\n",
      "\n",
      "See the caveats in the documentation: https://pandas.pydata.org/pandas-docs/stable/user_guide/indexing.html#returning-a-view-versus-a-copy\n",
      "  iloc._setitem_with_indexer(indexer, value)\n"
     ]
    }
   ],
   "source": [
    "#Insert row at given position in Pandas Dataframe\n",
    "def Insert_row_(row_number, df, row_value):\n",
    "    # Slice the upper half of the dataframe\n",
    "    df1 = df[0:row_number]\n",
    "    # Store the result of lower half of the dataframe\n",
    "    df2 = df[row_number:]\n",
    "    # Inser the row in the upper half dataframe\n",
    "    df1.loc[row_number]=row_value\n",
    "    # Concat the two dataframes\n",
    "    df_result = pd.concat([df1, df2])\n",
    "    # Reassign the index labels\n",
    "    df_result.index = [*range(df_result.shape[0])]\n",
    "   # Return the updated dataframe\n",
    "    return df_result\n",
    "# Let's create a row which we want to insert\n",
    "row_number = 2\n",
    "row_value = ['11/2/2011', 'Wrestling', 12000]\n",
    "  \n",
    "if row_number > df.index.max()+1:\n",
    "    print(\"Invalid row_number\")\n",
    "else:\n",
    "  \n",
    "    # Let's call the function and insert the row\n",
    "    # at the second position\n",
    "    df = Insert_row_(2, df, row_value)\n",
    "  \n",
    "    # Print the updated dataframe\n",
    "    print(df)"
   ]
  },
  {
   "cell_type": "code",
   "execution_count": null,
   "metadata": {},
   "outputs": [],
   "source": [
    "# Create a list from rows in Pandas dataframe\n",
    "# "
   ]
  },
  {
   "cell_type": "code",
   "execution_count": 48,
   "metadata": {},
   "outputs": [
    {
     "name": "stdout",
     "output_type": "stream",
     "text": [
      "[['10/2/2011', 'Music', 10000], ['12/2/2011', 'Poetry', 5000], ['11/2/2011', 'Wrestling', 12000], ['13/2/2011', 'Theatre', 15000], ['14/2/2011', 'Comedy', 2000]]\n"
     ]
    }
   ],
   "source": [
    "Row_list =[]\n",
    "  \n",
    "# Iterate over each row\n",
    "for index, rows in df.iterrows():\n",
    "    # Create list for the current row\n",
    "    my_list =[rows.Date, rows.Event, rows.Cost]\n",
    "      \n",
    "    # append the list to the final list\n",
    "    Row_list.append(my_list)\n",
    "print(Row_list)"
   ]
  },
  {
   "cell_type": "code",
   "execution_count": 49,
   "metadata": {},
   "outputs": [
    {
     "name": "stdout",
     "output_type": "stream",
     "text": [
      "5\n"
     ]
    }
   ],
   "source": [
    "print(len(Row_list))"
   ]
  },
  {
   "cell_type": "code",
   "execution_count": 50,
   "metadata": {},
   "outputs": [
    {
     "name": "stdout",
     "output_type": "stream",
     "text": [
      "[['10/2/2011', 'Music', 10000], ['12/2/2011', 'Poetry', 5000], ['11/2/2011', 'Wrestling', 12000], ['13/2/2011', 'Theatre', 15000], ['14/2/2011', 'Comedy', 2000]]\n"
     ]
    }
   ],
   "source": [
    "Row_list =[]\n",
    "  \n",
    "# Iterate over each row\n",
    "for rows in df.itertuples():\n",
    "    # Create list for the current row\n",
    "    my_list =[rows.Date, rows.Event, rows.Cost]\n",
    "      \n",
    "    # append the list to the final list\n",
    "    Row_list.append(my_list)\n",
    "print(Row_list)"
   ]
  },
  {
   "cell_type": "code",
   "execution_count": 51,
   "metadata": {},
   "outputs": [
    {
     "name": "stdout",
     "output_type": "stream",
     "text": [
      "[['10/2/2011', 'Music', 10000], ['12/2/2011', 'Poetry', 5000], ['11/2/2011', 'Wrestling', 12000], ['13/2/2011', 'Theatre', 15000], ['14/2/2011', 'Comedy', 2000]]\n"
     ]
    }
   ],
   "source": [
    "#useing loc\n",
    "Row_list =[]\n",
    "  \n",
    "# Iterate over each row\n",
    "for i in range((df.shape[0])):\n",
    "  \n",
    "    # Using iloc to access the values of \n",
    "    # the current row denoted by \"i\"\n",
    "    Row_list.append(list(df.iloc[i, :]))\n",
    "  \n",
    "print(Row_list)"
   ]
  },
  {
   "cell_type": "code",
   "execution_count": 52,
   "metadata": {},
   "outputs": [
    {
     "name": "stdout",
     "output_type": "stream",
     "text": [
      "            Name  Year Rating\n",
      "0  The Godfather  1972    9.2\n",
      "1       Bird Box  2018    6.8\n",
      "2     Fight Club  1999    8.8\n"
     ]
    }
   ],
   "source": [
    "# Ranking Rows of Pandas DataFrame\n",
    "#rank on their ratings\n",
    "movies = {'Name': ['The Godfather', 'Bird Box', 'Fight Club'],\n",
    "         'Year': ['1972', '2018', '1999'],\n",
    "         'Rating': ['9.2', '6.8', '8.8']}\n",
    "  \n",
    "df = pd.DataFrame(movies)\n",
    "print(df)"
   ]
  },
  {
   "cell_type": "code",
   "execution_count": 53,
   "metadata": {},
   "outputs": [
    {
     "name": "stdout",
     "output_type": "stream",
     "text": [
      "                      Name  Year Rating\n",
      "Rating_Rank                            \n",
      "3.0          The Godfather  1972    9.2\n",
      "1.0               Bird Box  2018    6.8\n",
      "2.0             Fight Club  1999    8.8\n"
     ]
    }
   ],
   "source": [
    "df['Rating_Rank'] = df['Rating'].rank(ascending = 1)\n",
    "  \n",
    "# Set the index to newly created column, Rating_Rank\n",
    "df = df.set_index('Rating_Rank')\n",
    "print(df)"
   ]
  },
  {
   "cell_type": "code",
   "execution_count": 54,
   "metadata": {},
   "outputs": [
    {
     "name": "stdout",
     "output_type": "stream",
     "text": [
      "                      Name  Year Rating\n",
      "Rating_Rank                            \n",
      "1.0               Bird Box  2018    6.8\n",
      "2.0             Fight Club  1999    8.8\n",
      "3.0          The Godfather  1972    9.2\n"
     ]
    }
   ],
   "source": [
    "df = df.sort_index()\n",
    "print(df)"
   ]
  },
  {
   "cell_type": "code",
   "execution_count": 55,
   "metadata": {},
   "outputs": [],
   "source": [
    "#Sorting rows in pandas DataFrame\n",
    "data = {'name': ['Simon', 'Marsh', 'Gaurav', 'Alex', 'Selena'], \n",
    "        'Maths': [8, 5, 6, 9, 7], \n",
    "        'Science': [7, 9, 5, 4, 7],\n",
    "        'English': [7, 4, 7, 6, 8]}\n",
    "  \n",
    "df = pd.DataFrame(data)\n",
    "  \n",
    "# Sort the dataframe’s rows by Science,\n",
    "# in descending order\n",
    "a = df.sort_values(by ='Science', ascending = 0)"
   ]
  },
  {
   "cell_type": "code",
   "execution_count": 56,
   "metadata": {},
   "outputs": [
    {
     "data": {
      "text/html": [
       "<div>\n",
       "<style scoped>\n",
       "    .dataframe tbody tr th:only-of-type {\n",
       "        vertical-align: middle;\n",
       "    }\n",
       "\n",
       "    .dataframe tbody tr th {\n",
       "        vertical-align: top;\n",
       "    }\n",
       "\n",
       "    .dataframe thead th {\n",
       "        text-align: right;\n",
       "    }\n",
       "</style>\n",
       "<table border=\"1\" class=\"dataframe\">\n",
       "  <thead>\n",
       "    <tr style=\"text-align: right;\">\n",
       "      <th></th>\n",
       "      <th>name</th>\n",
       "      <th>Maths</th>\n",
       "      <th>Science</th>\n",
       "      <th>English</th>\n",
       "    </tr>\n",
       "  </thead>\n",
       "  <tbody>\n",
       "    <tr>\n",
       "      <th>1</th>\n",
       "      <td>Marsh</td>\n",
       "      <td>5</td>\n",
       "      <td>9</td>\n",
       "      <td>4</td>\n",
       "    </tr>\n",
       "    <tr>\n",
       "      <th>0</th>\n",
       "      <td>Simon</td>\n",
       "      <td>8</td>\n",
       "      <td>7</td>\n",
       "      <td>7</td>\n",
       "    </tr>\n",
       "    <tr>\n",
       "      <th>4</th>\n",
       "      <td>Selena</td>\n",
       "      <td>7</td>\n",
       "      <td>7</td>\n",
       "      <td>8</td>\n",
       "    </tr>\n",
       "    <tr>\n",
       "      <th>2</th>\n",
       "      <td>Gaurav</td>\n",
       "      <td>6</td>\n",
       "      <td>5</td>\n",
       "      <td>7</td>\n",
       "    </tr>\n",
       "    <tr>\n",
       "      <th>3</th>\n",
       "      <td>Alex</td>\n",
       "      <td>9</td>\n",
       "      <td>4</td>\n",
       "      <td>6</td>\n",
       "    </tr>\n",
       "  </tbody>\n",
       "</table>\n",
       "</div>"
      ],
      "text/plain": [
       "     name  Maths  Science  English\n",
       "1   Marsh      5        9        4\n",
       "0   Simon      8        7        7\n",
       "4  Selena      7        7        8\n",
       "2  Gaurav      6        5        7\n",
       "3    Alex      9        4        6"
      ]
     },
     "execution_count": 56,
     "metadata": {},
     "output_type": "execute_result"
    }
   ],
   "source": [
    "a"
   ]
  },
  {
   "cell_type": "code",
   "execution_count": 57,
   "metadata": {},
   "outputs": [
    {
     "name": "stdout",
     "output_type": "stream",
     "text": [
      "     name  Maths  Science  English\n",
      "3    Alex      9        4        6\n",
      "2  Gaurav      6        5        7\n",
      "0   Simon      8        7        7\n",
      "4  Selena      7        7        8\n",
      "1   Marsh      5        9        4\n"
     ]
    }
   ],
   "source": [
    "# If you want missing values first.\n",
    "\n",
    "\n",
    "import pandas as pd\n",
    "  \n",
    "# create dataframe\n",
    "data = {'name': ['Simon', 'Marsh', 'Gaurav', 'Alex', 'Selena'], \n",
    "        'Maths': [8, 5, 6, 9, 7], \n",
    "        'Science': [7, 9, 5, 4, 7],\n",
    "        'English': [7, 4, 7, 6, 8]}\n",
    "df = pd.DataFrame(data)\n",
    "  \n",
    "  \n",
    "a = df.sort_values(by ='Science', na_position ='first' )\n",
    "print(a)"
   ]
  },
  {
   "cell_type": "code",
   "execution_count": 58,
   "metadata": {},
   "outputs": [
    {
     "name": "stdout",
     "output_type": "stream",
     "text": [
      "     Driver  Points  Age\n",
      "0  Hamilton     408   33\n"
     ]
    }
   ],
   "source": [
    "#max points\n",
    "dict1 ={'Driver':['Hamilton', 'Vettel', 'Raikkonen',\n",
    "                  'Verstappen', 'Bottas', 'Ricciardo',\n",
    "                  'Hulkenberg', 'Perez', 'Magnussen', \n",
    "                  'Sainz', 'Alonso', 'Ocon', 'Leclerc',\n",
    "                  'Grosjean', 'Gasly', 'Vandoorne',\n",
    "                  'Ericsson', 'Stroll', 'Hartley', 'Sirotkin'],\n",
    "                    \n",
    "        'Points':[408, 320, 251, 249, 247, 170, 69, 62, 56,\n",
    "                   53, 50, 49, 39, 37, 29, 12, 9, 6, 4, 1],\n",
    "                     \n",
    "        'Age':[33, 31, 39, 21, 29, 29, 31, 28, 26, 24, 37,\n",
    "                      22, 21, 32, 22, 26, 28, 20, 29, 23]}\n",
    "                        \n",
    "# creating dataframe using DataFrame constructor\n",
    "df = pd.DataFrame(dict1)\n",
    "  \n",
    "# Who scored more points ?\n",
    "print(df[df.Points == df.Points.max()])"
   ]
  },
  {
   "cell_type": "code",
   "execution_count": 59,
   "metadata": {},
   "outputs": [
    {
     "name": "stdout",
     "output_type": "stream",
     "text": [
      "39\n"
     ]
    }
   ],
   "source": [
    "#max age\n",
    "print(df.Age.max())"
   ]
  },
  {
   "cell_type": "code",
   "execution_count": 60,
   "metadata": {},
   "outputs": [
    {
     "name": "stdout",
     "output_type": "stream",
     "text": [
      "Driver    Alonso\n",
      "Points         1\n",
      "Age           20\n",
      "dtype: object\n"
     ]
    }
   ],
   "source": [
    "#Shows min on Driver, Points, Age columns.\n",
    "print(df.min())"
   ]
  },
  {
   "cell_type": "code",
   "execution_count": 61,
   "metadata": {},
   "outputs": [
    {
     "name": "stdout",
     "output_type": "stream",
     "text": [
      "       Name    Team Position  Number  Age Height  Weight   College  Salary\n",
      "ind1  Geeks  Boston       PG       3   33    6-2      89       MIT   99999\n",
      "ind2  Peter  Boston       PG       4   25    6-4      79       MIT   99994\n",
      "ind3  James  Boston       UG       7   34    5-9     113       MIT   89999\n",
      "ind4   Jack   Chele       PG      11   35    6-1      78  Stanford   78889\n",
      "ind5   Lisa   Barse       UG       5   28    5-8      84  Stanford   87779 \n",
      "\n",
      "Check PG values in Position column:\n",
      "\n",
      "ind1     True\n",
      "ind2     True\n",
      "ind3    False\n",
      "ind4     True\n",
      "ind5    False\n",
      "Name: Position, dtype: bool\n"
     ]
    }
   ],
   "source": [
    "# Get all rows in a Pandas DataFrame containing given substring\n",
    "df = pd.DataFrame({'Name': ['Geeks', 'Peter', 'James', 'Jack', 'Lisa'],\n",
    "                   'Team': ['Boston', 'Boston', 'Boston', 'Chele', 'Barse'],\n",
    "                   'Position': ['PG', 'PG', 'UG', 'PG', 'UG'],\n",
    "                   'Number': [3, 4, 7, 11, 5],\n",
    "                   'Age': [33, 25, 34, 35, 28],\n",
    "                   'Height': ['6-2', '6-4', '5-9', '6-1', '5-8'],\n",
    "                   'Weight': [89, 79, 113, 78, 84],\n",
    "                   'College': ['MIT', 'MIT', 'MIT', 'Stanford', 'Stanford'],\n",
    "                   'Salary': [99999, 99994, 89999, 78889, 87779]},\n",
    "                   index =['ind1', 'ind2', 'ind3', 'ind4', 'ind5'])\n",
    "print(df, \"\\n\")\n",
    "  \n",
    "print(\"Check PG values in Position column:\\n\")\n",
    "df1 = df['Position'].str.contains(\"PG\")\n",
    "print(df1)"
   ]
  },
  {
   "cell_type": "code",
   "execution_count": 62,
   "metadata": {},
   "outputs": [
    {
     "name": "stdout",
     "output_type": "stream",
     "text": [
      "       Name    Team Position  Number  Age Height  Weight College  Salary\n",
      "ind1  Geeks  Boston       PG       3   33    6-2      89     MIT   99999\n",
      "ind2  Peter  Boston       PG       4   25    6-4      79     MIT   99994\n",
      "ind3  James  Boston       UG       7   34    5-9     113     MIT   89999\n"
     ]
    }
   ],
   "source": [
    "df1 = df[df['Team'].str.contains(\"Boston\") | df['College'].str.contains('MIT')]\n",
    "print(df1)"
   ]
  },
  {
   "cell_type": "code",
   "execution_count": 63,
   "metadata": {},
   "outputs": [
    {
     "data": {
      "text/html": [
       "<div>\n",
       "<style scoped>\n",
       "    .dataframe tbody tr th:only-of-type {\n",
       "        vertical-align: middle;\n",
       "    }\n",
       "\n",
       "    .dataframe tbody tr th {\n",
       "        vertical-align: top;\n",
       "    }\n",
       "\n",
       "    .dataframe thead th {\n",
       "        text-align: right;\n",
       "    }\n",
       "</style>\n",
       "<table border=\"1\" class=\"dataframe\">\n",
       "  <thead>\n",
       "    <tr style=\"text-align: right;\">\n",
       "      <th></th>\n",
       "      <th>Name</th>\n",
       "      <th>Branch</th>\n",
       "      <th>Score</th>\n",
       "      <th>Result</th>\n",
       "    </tr>\n",
       "  </thead>\n",
       "  <tbody>\n",
       "    <tr>\n",
       "      <th>0</th>\n",
       "      <td>Akash</td>\n",
       "      <td>B.Tech</td>\n",
       "      <td>80</td>\n",
       "      <td>Pass</td>\n",
       "    </tr>\n",
       "    <tr>\n",
       "      <th>1</th>\n",
       "      <td>Geeku</td>\n",
       "      <td>MBA</td>\n",
       "      <td>90</td>\n",
       "      <td>Pass</td>\n",
       "    </tr>\n",
       "    <tr>\n",
       "      <th>2</th>\n",
       "      <td>Pankaj</td>\n",
       "      <td>BCA</td>\n",
       "      <td>60</td>\n",
       "      <td>Pass</td>\n",
       "    </tr>\n",
       "    <tr>\n",
       "      <th>3</th>\n",
       "      <td>Sumitra</td>\n",
       "      <td>B.Tech</td>\n",
       "      <td>30</td>\n",
       "      <td>Fail</td>\n",
       "    </tr>\n",
       "    <tr>\n",
       "      <th>4</th>\n",
       "      <td>Ramlal</td>\n",
       "      <td>BCA</td>\n",
       "      <td>50</td>\n",
       "      <td>Fail</td>\n",
       "    </tr>\n",
       "  </tbody>\n",
       "</table>\n",
       "</div>"
      ],
      "text/plain": [
       "      Name  Branch Score Result\n",
       "0    Akash  B.Tech    80   Pass\n",
       "1    Geeku     MBA    90   Pass\n",
       "2   Pankaj     BCA    60   Pass\n",
       "3  Sumitra  B.Tech    30   Fail\n",
       "4   Ramlal     BCA    50   Fail"
      ]
     },
     "execution_count": 63,
     "metadata": {},
     "output_type": "execute_result"
    }
   ],
   "source": [
    "# Convert a column to row name/index in Pandas\n",
    "data = {'Name':[\"Akash\", \"Geeku\", \"Pankaj\", \"Sumitra\",\"Ramlal\"],\n",
    "       'Branch':[\"B.Tech\", \"MBA\", \"BCA\", \"B.Tech\", \"BCA\"],\n",
    "       'Score':[\"80\",\"90\",\"60\", \"30\", \"50\"],\n",
    "       'Result': [\"Pass\",\"Pass\",\"Pass\",\"Fail\",\"Fail\"]}\n",
    "  \n",
    "# creating a dataframe \n",
    "df = pd.DataFrame(data)\n",
    "   \n",
    "df"
   ]
  },
  {
   "cell_type": "code",
   "execution_count": 64,
   "metadata": {},
   "outputs": [
    {
     "data": {
      "text/html": [
       "<div>\n",
       "<style scoped>\n",
       "    .dataframe tbody tr th:only-of-type {\n",
       "        vertical-align: middle;\n",
       "    }\n",
       "\n",
       "    .dataframe tbody tr th {\n",
       "        vertical-align: top;\n",
       "    }\n",
       "\n",
       "    .dataframe thead th {\n",
       "        text-align: right;\n",
       "    }\n",
       "</style>\n",
       "<table border=\"1\" class=\"dataframe\">\n",
       "  <thead>\n",
       "    <tr style=\"text-align: right;\">\n",
       "      <th></th>\n",
       "      <th>Branch</th>\n",
       "      <th>Score</th>\n",
       "      <th>Result</th>\n",
       "    </tr>\n",
       "    <tr>\n",
       "      <th>Name</th>\n",
       "      <th></th>\n",
       "      <th></th>\n",
       "      <th></th>\n",
       "    </tr>\n",
       "  </thead>\n",
       "  <tbody>\n",
       "    <tr>\n",
       "      <th>Akash</th>\n",
       "      <td>B.Tech</td>\n",
       "      <td>80</td>\n",
       "      <td>Pass</td>\n",
       "    </tr>\n",
       "    <tr>\n",
       "      <th>Geeku</th>\n",
       "      <td>MBA</td>\n",
       "      <td>90</td>\n",
       "      <td>Pass</td>\n",
       "    </tr>\n",
       "    <tr>\n",
       "      <th>Pankaj</th>\n",
       "      <td>BCA</td>\n",
       "      <td>60</td>\n",
       "      <td>Pass</td>\n",
       "    </tr>\n",
       "    <tr>\n",
       "      <th>Sumitra</th>\n",
       "      <td>B.Tech</td>\n",
       "      <td>30</td>\n",
       "      <td>Fail</td>\n",
       "    </tr>\n",
       "    <tr>\n",
       "      <th>Ramlal</th>\n",
       "      <td>BCA</td>\n",
       "      <td>50</td>\n",
       "      <td>Fail</td>\n",
       "    </tr>\n",
       "  </tbody>\n",
       "</table>\n",
       "</div>"
      ],
      "text/plain": [
       "         Branch Score Result\n",
       "Name                        \n",
       "Akash    B.Tech    80   Pass\n",
       "Geeku       MBA    90   Pass\n",
       "Pankaj      BCA    60   Pass\n",
       "Sumitra  B.Tech    30   Fail\n",
       "Ramlal      BCA    50   Fail"
      ]
     },
     "execution_count": 64,
     "metadata": {},
     "output_type": "execute_result"
    }
   ],
   "source": [
    "df = df.set_index('Name')\n",
    "  \n",
    "df"
   ]
  },
  {
   "cell_type": "code",
   "execution_count": 65,
   "metadata": {},
   "outputs": [
    {
     "data": {
      "text/html": [
       "<div>\n",
       "<style scoped>\n",
       "    .dataframe tbody tr th:only-of-type {\n",
       "        vertical-align: middle;\n",
       "    }\n",
       "\n",
       "    .dataframe tbody tr th {\n",
       "        vertical-align: top;\n",
       "    }\n",
       "\n",
       "    .dataframe thead th {\n",
       "        text-align: right;\n",
       "    }\n",
       "</style>\n",
       "<table border=\"1\" class=\"dataframe\">\n",
       "  <thead>\n",
       "    <tr style=\"text-align: right;\">\n",
       "      <th></th>\n",
       "      <th>Branch</th>\n",
       "      <th>Score</th>\n",
       "      <th>Result</th>\n",
       "    </tr>\n",
       "  </thead>\n",
       "  <tbody>\n",
       "    <tr>\n",
       "      <th>Akash</th>\n",
       "      <td>B.Tech</td>\n",
       "      <td>80</td>\n",
       "      <td>Pass</td>\n",
       "    </tr>\n",
       "    <tr>\n",
       "      <th>Geeku</th>\n",
       "      <td>MBA</td>\n",
       "      <td>90</td>\n",
       "      <td>Pass</td>\n",
       "    </tr>\n",
       "    <tr>\n",
       "      <th>Pankaj</th>\n",
       "      <td>BCA</td>\n",
       "      <td>60</td>\n",
       "      <td>Pass</td>\n",
       "    </tr>\n",
       "    <tr>\n",
       "      <th>Sumitra</th>\n",
       "      <td>B.Tech</td>\n",
       "      <td>30</td>\n",
       "      <td>Fail</td>\n",
       "    </tr>\n",
       "    <tr>\n",
       "      <th>Ramlal</th>\n",
       "      <td>BCA</td>\n",
       "      <td>50</td>\n",
       "      <td>Fail</td>\n",
       "    </tr>\n",
       "  </tbody>\n",
       "</table>\n",
       "</div>"
      ],
      "text/plain": [
       "         Branch Score Result\n",
       "Akash    B.Tech    80   Pass\n",
       "Geeku       MBA    90   Pass\n",
       "Pankaj      BCA    60   Pass\n",
       "Sumitra  B.Tech    30   Fail\n",
       "Ramlal      BCA    50   Fail"
      ]
     },
     "execution_count": 65,
     "metadata": {},
     "output_type": "execute_result"
    }
   ],
   "source": [
    "# set the index to 'None' via its name property\n",
    "df.index.names = [None]\n",
    "  \n",
    "df"
   ]
  },
  {
   "cell_type": "code",
   "execution_count": 71,
   "metadata": {},
   "outputs": [
    {
     "data": {
      "text/html": [
       "<div>\n",
       "<style scoped>\n",
       "    .dataframe tbody tr th:only-of-type {\n",
       "        vertical-align: middle;\n",
       "    }\n",
       "\n",
       "    .dataframe tbody tr th {\n",
       "        vertical-align: top;\n",
       "    }\n",
       "\n",
       "    .dataframe thead th {\n",
       "        text-align: right;\n",
       "    }\n",
       "</style>\n",
       "<table border=\"1\" class=\"dataframe\">\n",
       "  <thead>\n",
       "    <tr style=\"text-align: right;\">\n",
       "      <th></th>\n",
       "      <th>name</th>\n",
       "      <th>Branch</th>\n",
       "      <th>Score</th>\n",
       "      <th>Result</th>\n",
       "    </tr>\n",
       "  </thead>\n",
       "  <tbody>\n",
       "    <tr>\n",
       "      <th>0</th>\n",
       "      <td>Akash</td>\n",
       "      <td>B.Tech</td>\n",
       "      <td>80</td>\n",
       "      <td>Pass</td>\n",
       "    </tr>\n",
       "    <tr>\n",
       "      <th>1</th>\n",
       "      <td>Geeku</td>\n",
       "      <td>MBA</td>\n",
       "      <td>90</td>\n",
       "      <td>Pass</td>\n",
       "    </tr>\n",
       "    <tr>\n",
       "      <th>2</th>\n",
       "      <td>Pankaj</td>\n",
       "      <td>BCA</td>\n",
       "      <td>60</td>\n",
       "      <td>Pass</td>\n",
       "    </tr>\n",
       "    <tr>\n",
       "      <th>3</th>\n",
       "      <td>Sumitra</td>\n",
       "      <td>B.Tech</td>\n",
       "      <td>30</td>\n",
       "      <td>Fail</td>\n",
       "    </tr>\n",
       "    <tr>\n",
       "      <th>4</th>\n",
       "      <td>Ramlal</td>\n",
       "      <td>BCA</td>\n",
       "      <td>50</td>\n",
       "      <td>Fail</td>\n",
       "    </tr>\n",
       "  </tbody>\n",
       "</table>\n",
       "</div>"
      ],
      "text/plain": [
       "      name  Branch Score Result\n",
       "0    Akash  B.Tech    80   Pass\n",
       "1    Geeku     MBA    90   Pass\n",
       "2   Pankaj     BCA    60   Pass\n",
       "3  Sumitra  B.Tech    30   Fail\n",
       "4   Ramlal     BCA    50   Fail"
      ]
     },
     "execution_count": 71,
     "metadata": {},
     "output_type": "execute_result"
    }
   ],
   "source": [
    "data = {'name':[\"Akash\", \"Geeku\", \"Pankaj\", \"Sumitra\", \"Ramlal\"],\n",
    "       'Branch':[\"B.Tech\", \"MBA\", \"BCA\", \"B.Tech\", \"BCA\"],\n",
    "       'Score':[\"80\", \"90\", \"60\", \"30\", \"50\"],\n",
    "       'Result': [\"Pass\", \"Pass\", \"Pass\", \"Fail\", \"Fail\"]}\n",
    "  \n",
    "df = pd.DataFrame(data)\n",
    "  \n",
    "df"
   ]
  },
  {
   "cell_type": "code",
   "execution_count": 73,
   "metadata": {},
   "outputs": [
    {
     "data": {
      "text/html": [
       "<div>\n",
       "<style scoped>\n",
       "    .dataframe tbody tr th:only-of-type {\n",
       "        vertical-align: middle;\n",
       "    }\n",
       "\n",
       "    .dataframe tbody tr th {\n",
       "        vertical-align: top;\n",
       "    }\n",
       "\n",
       "    .dataframe thead tr th {\n",
       "        text-align: left;\n",
       "    }\n",
       "\n",
       "    .dataframe thead tr:last-of-type th {\n",
       "        text-align: right;\n",
       "    }\n",
       "</style>\n",
       "<table border=\"1\" class=\"dataframe\">\n",
       "  <thead>\n",
       "    <tr>\n",
       "      <th></th>\n",
       "      <th colspan=\"5\" halign=\"left\">Branch</th>\n",
       "      <th colspan=\"5\" halign=\"left\">Score</th>\n",
       "    </tr>\n",
       "    <tr>\n",
       "      <th>name</th>\n",
       "      <th>Akash</th>\n",
       "      <th>Geeku</th>\n",
       "      <th>Pankaj</th>\n",
       "      <th>Ramlal</th>\n",
       "      <th>Sumitra</th>\n",
       "      <th>Akash</th>\n",
       "      <th>Geeku</th>\n",
       "      <th>Pankaj</th>\n",
       "      <th>Ramlal</th>\n",
       "      <th>Sumitra</th>\n",
       "    </tr>\n",
       "    <tr>\n",
       "      <th>Result</th>\n",
       "      <th></th>\n",
       "      <th></th>\n",
       "      <th></th>\n",
       "      <th></th>\n",
       "      <th></th>\n",
       "      <th></th>\n",
       "      <th></th>\n",
       "      <th></th>\n",
       "      <th></th>\n",
       "      <th></th>\n",
       "    </tr>\n",
       "  </thead>\n",
       "  <tbody>\n",
       "    <tr>\n",
       "      <th>Fail</th>\n",
       "      <td>NaN</td>\n",
       "      <td>NaN</td>\n",
       "      <td>NaN</td>\n",
       "      <td>BCA</td>\n",
       "      <td>B.Tech</td>\n",
       "      <td>NaN</td>\n",
       "      <td>NaN</td>\n",
       "      <td>NaN</td>\n",
       "      <td>50</td>\n",
       "      <td>30</td>\n",
       "    </tr>\n",
       "    <tr>\n",
       "      <th>Pass</th>\n",
       "      <td>B.Tech</td>\n",
       "      <td>MBA</td>\n",
       "      <td>BCA</td>\n",
       "      <td>NaN</td>\n",
       "      <td>NaN</td>\n",
       "      <td>80</td>\n",
       "      <td>90</td>\n",
       "      <td>60</td>\n",
       "      <td>NaN</td>\n",
       "      <td>NaN</td>\n",
       "    </tr>\n",
       "  </tbody>\n",
       "</table>\n",
       "</div>"
      ],
      "text/plain": [
       "        Branch                             Score                            \n",
       "name     Akash Geeku Pankaj Ramlal Sumitra Akash Geeku Pankaj Ramlal Sumitra\n",
       "Result                                                                      \n",
       "Fail       NaN   NaN    NaN    BCA  B.Tech   NaN   NaN    NaN     50      30\n",
       "Pass    B.Tech   MBA    BCA    NaN     NaN    80    90     60    NaN     NaN"
      ]
     },
     "execution_count": 73,
     "metadata": {},
     "output_type": "execute_result"
    }
   ],
   "source": [
    "# pivoting the dataframe\n",
    "df1=df.pivot(index ='Result', columns ='name')\n",
    "  \n",
    "df1"
   ]
  },
  {
   "cell_type": "code",
   "execution_count": 75,
   "metadata": {},
   "outputs": [
    {
     "data": {
      "text/html": [
       "<div>\n",
       "<style scoped>\n",
       "    .dataframe tbody tr th:only-of-type {\n",
       "        vertical-align: middle;\n",
       "    }\n",
       "\n",
       "    .dataframe tbody tr th {\n",
       "        vertical-align: top;\n",
       "    }\n",
       "\n",
       "    .dataframe thead th {\n",
       "        text-align: right;\n",
       "    }\n",
       "</style>\n",
       "<table border=\"1\" class=\"dataframe\">\n",
       "  <thead>\n",
       "    <tr style=\"text-align: right;\">\n",
       "      <th></th>\n",
       "      <th>name</th>\n",
       "      <th>Branch</th>\n",
       "      <th>Score</th>\n",
       "      <th>Result</th>\n",
       "    </tr>\n",
       "  </thead>\n",
       "  <tbody>\n",
       "    <tr>\n",
       "      <th>3</th>\n",
       "      <td>Sumitra</td>\n",
       "      <td>B.Tech</td>\n",
       "      <td>30</td>\n",
       "      <td>Fail</td>\n",
       "    </tr>\n",
       "  </tbody>\n",
       "</table>\n",
       "</div>"
      ],
      "text/plain": [
       "      name  Branch Score Result\n",
       "3  Sumitra  B.Tech    30   Fail"
      ]
     },
     "execution_count": 75,
     "metadata": {},
     "output_type": "execute_result"
    }
   ],
   "source": [
    "# How to randomly select rows from Pandas DataFrame\n",
    "df.sample()\n"
   ]
  },
  {
   "cell_type": "code",
   "execution_count": 76,
   "metadata": {},
   "outputs": [
    {
     "data": {
      "text/html": [
       "<div>\n",
       "<style scoped>\n",
       "    .dataframe tbody tr th:only-of-type {\n",
       "        vertical-align: middle;\n",
       "    }\n",
       "\n",
       "    .dataframe tbody tr th {\n",
       "        vertical-align: top;\n",
       "    }\n",
       "\n",
       "    .dataframe thead th {\n",
       "        text-align: right;\n",
       "    }\n",
       "</style>\n",
       "<table border=\"1\" class=\"dataframe\">\n",
       "  <thead>\n",
       "    <tr style=\"text-align: right;\">\n",
       "      <th></th>\n",
       "      <th>name</th>\n",
       "      <th>Branch</th>\n",
       "      <th>Score</th>\n",
       "      <th>Result</th>\n",
       "    </tr>\n",
       "  </thead>\n",
       "  <tbody>\n",
       "    <tr>\n",
       "      <th>4</th>\n",
       "      <td>Ramlal</td>\n",
       "      <td>BCA</td>\n",
       "      <td>50</td>\n",
       "      <td>Fail</td>\n",
       "    </tr>\n",
       "    <tr>\n",
       "      <th>2</th>\n",
       "      <td>Pankaj</td>\n",
       "      <td>BCA</td>\n",
       "      <td>60</td>\n",
       "      <td>Pass</td>\n",
       "    </tr>\n",
       "    <tr>\n",
       "      <th>3</th>\n",
       "      <td>Sumitra</td>\n",
       "      <td>B.Tech</td>\n",
       "      <td>30</td>\n",
       "      <td>Fail</td>\n",
       "    </tr>\n",
       "  </tbody>\n",
       "</table>\n",
       "</div>"
      ],
      "text/plain": [
       "      name  Branch Score Result\n",
       "4   Ramlal     BCA    50   Fail\n",
       "2   Pankaj     BCA    60   Pass\n",
       "3  Sumitra  B.Tech    30   Fail"
      ]
     },
     "execution_count": 76,
     "metadata": {},
     "output_type": "execute_result"
    }
   ],
   "source": [
    "df.sample(n = 3)\n"
   ]
  },
  {
   "cell_type": "code",
   "execution_count": 77,
   "metadata": {},
   "outputs": [
    {
     "data": {
      "text/html": [
       "<div>\n",
       "<style scoped>\n",
       "    .dataframe tbody tr th:only-of-type {\n",
       "        vertical-align: middle;\n",
       "    }\n",
       "\n",
       "    .dataframe tbody tr th {\n",
       "        vertical-align: top;\n",
       "    }\n",
       "\n",
       "    .dataframe thead th {\n",
       "        text-align: right;\n",
       "    }\n",
       "</style>\n",
       "<table border=\"1\" class=\"dataframe\">\n",
       "  <thead>\n",
       "    <tr style=\"text-align: right;\">\n",
       "      <th></th>\n",
       "      <th>name</th>\n",
       "      <th>Branch</th>\n",
       "      <th>Score</th>\n",
       "      <th>Result</th>\n",
       "    </tr>\n",
       "  </thead>\n",
       "  <tbody>\n",
       "    <tr>\n",
       "      <th>1</th>\n",
       "      <td>Geeku</td>\n",
       "      <td>MBA</td>\n",
       "      <td>90</td>\n",
       "      <td>Pass</td>\n",
       "    </tr>\n",
       "    <tr>\n",
       "      <th>0</th>\n",
       "      <td>Akash</td>\n",
       "      <td>B.Tech</td>\n",
       "      <td>80</td>\n",
       "      <td>Pass</td>\n",
       "    </tr>\n",
       "  </tbody>\n",
       "</table>\n",
       "</div>"
      ],
      "text/plain": [
       "    name  Branch Score Result\n",
       "1  Geeku     MBA    90   Pass\n",
       "0  Akash  B.Tech    80   Pass"
      ]
     },
     "execution_count": 77,
     "metadata": {},
     "output_type": "execute_result"
    }
   ],
   "source": [
    "# here you get .50 % of the rows\n",
    "df.sample(frac = 0.5)"
   ]
  },
  {
   "cell_type": "code",
   "execution_count": 78,
   "metadata": {},
   "outputs": [
    {
     "data": {
      "text/html": [
       "<div>\n",
       "<style scoped>\n",
       "    .dataframe tbody tr th:only-of-type {\n",
       "        vertical-align: middle;\n",
       "    }\n",
       "\n",
       "    .dataframe tbody tr th {\n",
       "        vertical-align: top;\n",
       "    }\n",
       "\n",
       "    .dataframe thead th {\n",
       "        text-align: right;\n",
       "    }\n",
       "</style>\n",
       "<table border=\"1\" class=\"dataframe\">\n",
       "  <thead>\n",
       "    <tr style=\"text-align: right;\">\n",
       "      <th></th>\n",
       "      <th>name</th>\n",
       "      <th>Branch</th>\n",
       "      <th>Score</th>\n",
       "      <th>Result</th>\n",
       "    </tr>\n",
       "  </thead>\n",
       "  <tbody>\n",
       "    <tr>\n",
       "      <th>0</th>\n",
       "      <td>Akash</td>\n",
       "      <td>B.Tech</td>\n",
       "      <td>80</td>\n",
       "      <td>Pass</td>\n",
       "    </tr>\n",
       "    <tr>\n",
       "      <th>3</th>\n",
       "      <td>Sumitra</td>\n",
       "      <td>B.Tech</td>\n",
       "      <td>30</td>\n",
       "      <td>Fail</td>\n",
       "    </tr>\n",
       "  </tbody>\n",
       "</table>\n",
       "</div>"
      ],
      "text/plain": [
       "      name  Branch Score Result\n",
       "0    Akash  B.Tech    80   Pass\n",
       "3  Sumitra  B.Tech    30   Fail"
      ]
     },
     "execution_count": 78,
     "metadata": {},
     "output_type": "execute_result"
    }
   ],
   "source": [
    "# fraction of rows\n",
    " \n",
    "# here you get 70 % row from the df\n",
    "# make put into another dataframe df1\n",
    "df1 = df.sample(frac =.7)\n",
    " \n",
    "# Now select 50 % rows from df1\n",
    "df1.sample(frac =.50)"
   ]
  },
  {
   "cell_type": "code",
   "execution_count": 79,
   "metadata": {},
   "outputs": [
    {
     "data": {
      "application/javascript": [
       "\n",
       "        if (window._pyforest_update_imports_cell) { window._pyforest_update_imports_cell('import numpy as np'); }\n",
       "    "
      ],
      "text/plain": [
       "<IPython.core.display.Javascript object>"
      ]
     },
     "metadata": {},
     "output_type": "display_data"
    },
    {
     "data": {
      "text/html": [
       "<div>\n",
       "<style scoped>\n",
       "    .dataframe tbody tr th:only-of-type {\n",
       "        vertical-align: middle;\n",
       "    }\n",
       "\n",
       "    .dataframe tbody tr th {\n",
       "        vertical-align: top;\n",
       "    }\n",
       "\n",
       "    .dataframe thead th {\n",
       "        text-align: right;\n",
       "    }\n",
       "</style>\n",
       "<table border=\"1\" class=\"dataframe\">\n",
       "  <thead>\n",
       "    <tr style=\"text-align: right;\">\n",
       "      <th></th>\n",
       "      <th>name</th>\n",
       "      <th>Branch</th>\n",
       "      <th>Score</th>\n",
       "      <th>Result</th>\n",
       "    </tr>\n",
       "  </thead>\n",
       "  <tbody>\n",
       "    <tr>\n",
       "      <th>3</th>\n",
       "      <td>Sumitra</td>\n",
       "      <td>B.Tech</td>\n",
       "      <td>30</td>\n",
       "      <td>Fail</td>\n",
       "    </tr>\n",
       "    <tr>\n",
       "      <th>1</th>\n",
       "      <td>Geeku</td>\n",
       "      <td>MBA</td>\n",
       "      <td>90</td>\n",
       "      <td>Pass</td>\n",
       "    </tr>\n",
       "    <tr>\n",
       "      <th>3</th>\n",
       "      <td>Sumitra</td>\n",
       "      <td>B.Tech</td>\n",
       "      <td>30</td>\n",
       "      <td>Fail</td>\n",
       "    </tr>\n",
       "    <tr>\n",
       "      <th>1</th>\n",
       "      <td>Geeku</td>\n",
       "      <td>MBA</td>\n",
       "      <td>90</td>\n",
       "      <td>Pass</td>\n",
       "    </tr>\n",
       "    <tr>\n",
       "      <th>0</th>\n",
       "      <td>Akash</td>\n",
       "      <td>B.Tech</td>\n",
       "      <td>80</td>\n",
       "      <td>Pass</td>\n",
       "    </tr>\n",
       "    <tr>\n",
       "      <th>3</th>\n",
       "      <td>Sumitra</td>\n",
       "      <td>B.Tech</td>\n",
       "      <td>30</td>\n",
       "      <td>Fail</td>\n",
       "    </tr>\n",
       "  </tbody>\n",
       "</table>\n",
       "</div>"
      ],
      "text/plain": [
       "      name  Branch Score Result\n",
       "3  Sumitra  B.Tech    30   Fail\n",
       "1    Geeku     MBA    90   Pass\n",
       "3  Sumitra  B.Tech    30   Fail\n",
       "1    Geeku     MBA    90   Pass\n",
       "0    Akash  B.Tech    80   Pass\n",
       "3  Sumitra  B.Tech    30   Fail"
      ]
     },
     "execution_count": 79,
     "metadata": {},
     "output_type": "execute_result"
    }
   ],
   "source": [
    "# Using NumPy\n",
    "# Numpy chose how many index include for random selection and we can allow replacement.\n",
    "chosen_idx = np.random.choice(4, replace = True, size = 6)\n",
    " \n",
    "df2 = df.iloc[chosen_idx]\n",
    " \n",
    "df2 "
   ]
  },
  {
   "cell_type": "code",
   "execution_count": null,
   "metadata": {},
   "outputs": [],
   "source": []
  }
 ],
 "metadata": {
  "kernelspec": {
   "display_name": "Python 3",
   "language": "python",
   "name": "python3"
  },
  "language_info": {
   "codemirror_mode": {
    "name": "ipython",
    "version": 3
   },
   "file_extension": ".py",
   "mimetype": "text/x-python",
   "name": "python",
   "nbconvert_exporter": "python",
   "pygments_lexer": "ipython3",
   "version": "3.7.4"
  }
 },
 "nbformat": 4,
 "nbformat_minor": 2
}
